{
 "cells": [
  {
   "cell_type": "code",
   "execution_count": 2,
   "id": "84cffd30",
   "metadata": {},
   "outputs": [],
   "source": [
    "class TreeNode:\n",
    "    def __init__(self, key):\n",
    "        self.key = key\n",
    "        self.left = None\n",
    "        self.right = None\n"
   ]
  },
  {
   "cell_type": "code",
   "execution_count": 3,
   "id": "2b1dc121",
   "metadata": {},
   "outputs": [],
   "source": [
    "node0 = TreeNode(2)\n",
    "node1 = TreeNode(3)\n",
    "node2 = TreeNode(5)\n",
    "node3 = TreeNode(1)\n",
    "node4 = TreeNode(3)\n",
    "node5 = TreeNode(7)\n",
    "node6 = TreeNode(4)\n",
    "node7 = TreeNode(6)\n",
    "node8 = TreeNode(8)"
   ]
  },
  {
   "cell_type": "code",
   "execution_count": 4,
   "id": "dede1c4f",
   "metadata": {},
   "outputs": [],
   "source": [
    "node0.left = node1\n",
    "node0.right = node2"
   ]
  },
  {
   "cell_type": "code",
   "execution_count": 5,
   "id": "e4117927",
   "metadata": {},
   "outputs": [],
   "source": [
    "node1.left = node3"
   ]
  },
  {
   "cell_type": "code",
   "execution_count": 6,
   "id": "08c38c9b",
   "metadata": {},
   "outputs": [],
   "source": [
    "node2.left = node4\n",
    "node2.right = node5"
   ]
  },
  {
   "cell_type": "code",
   "execution_count": 7,
   "id": "6722fc0e",
   "metadata": {},
   "outputs": [],
   "source": [
    "node4.right = node6"
   ]
  },
  {
   "cell_type": "code",
   "execution_count": 8,
   "id": "f3d131a6",
   "metadata": {},
   "outputs": [],
   "source": [
    "node5.left = node7\n",
    "node5.right = node8"
   ]
  },
  {
   "cell_type": "code",
   "execution_count": 9,
   "id": "e88d8cf7",
   "metadata": {},
   "outputs": [],
   "source": [
    "tree = node0"
   ]
  },
  {
   "cell_type": "code",
   "execution_count": 10,
   "id": "8766e132",
   "metadata": {},
   "outputs": [
    {
     "data": {
      "text/plain": [
       "2"
      ]
     },
     "execution_count": 10,
     "metadata": {},
     "output_type": "execute_result"
    }
   ],
   "source": [
    "tree.key"
   ]
  },
  {
   "cell_type": "code",
   "execution_count": 11,
   "id": "ae6203b7",
   "metadata": {},
   "outputs": [
    {
     "data": {
      "text/plain": [
       "8"
      ]
     },
     "execution_count": 11,
     "metadata": {},
     "output_type": "execute_result"
    }
   ],
   "source": [
    "tree.right.right.right.key"
   ]
  },
  {
   "cell_type": "code",
   "execution_count": null,
   "id": "57a53aae",
   "metadata": {},
   "outputs": [],
   "source": []
  }
 ],
 "metadata": {
  "kernelspec": {
   "display_name": "Python 3 (ipykernel)",
   "language": "python",
   "name": "python3"
  },
  "language_info": {
   "codemirror_mode": {
    "name": "ipython",
    "version": 3
   },
   "file_extension": ".py",
   "mimetype": "text/x-python",
   "name": "python",
   "nbconvert_exporter": "python",
   "pygments_lexer": "ipython3",
   "version": "3.9.7"
  }
 },
 "nbformat": 4,
 "nbformat_minor": 5
}
